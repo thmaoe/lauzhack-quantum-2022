{
 "cells": [
  {
   "cell_type": "markdown",
   "id": "b56d5ed1",
   "metadata": {},
   "source": [
    "# QCA Lauzhack participation\n",
    "\n",
    "### _Problem x_ : Basic Circuit"
   ]
  },
  {
   "cell_type": "code",
   "execution_count": null,
   "id": "2dee1c3e",
   "metadata": {},
   "outputs": [],
   "source": [
    "from qiskit import QuantumCircuit\n",
    "from qiskit.quantum_info import Statevector\n",
    "import numpy as np"
   ]
  },
  {
   "cell_type": "markdown",
   "id": "c1afdd03",
   "metadata": {},
   "source": [
    "The aim of this small problem is to familiarize with quantum circuits and qiskit library and to introduce some basics of quantum mechanics. The main goal here will be to find the decomposition of several gates in the universal quantum gates CNOT, H, S and T gates, and prove through little simulations that your decomposition is the right one."
   ]
  },
  {
   "cell_type": "markdown",
   "id": "1c3edd7d",
   "metadata": {},
   "source": [
    "In quantum computing, we manipulate qubits. These are 2-levels quantum systems, it can be a photon polarization, a spin, trapped ions,... The fact that the system is a quantum system allow few very important properties : superpostion, interference and entanglement. A qubit can be $|\\psi\\rangle=\\alpha|0\\rangle+\\beta|1\\rangle$, with $|\\alpha|^2+|\\beta|^2=1$. According to the law of QM, $|\\alpha|^2$ and $|\\beta|^2$ represent the probability that we measure $|0\\rangle$ or $|1\\rangle$. When we have multiple qubits, they will be in a state $|\\Psi\\rangle = |\\psi_1\\rangle \\otimes |\\psi_2\\rangle$ where $\\otimes$ is the tensor product. For the notation $|\\psi\\rangle$ it is called the bra-ket notation and is used everywhere in QM because it is very convenient. For simplicity, just see that $|\\rangle$, the ket is a column vector with the component of the state and $\\langle|$, the bra, is the transpose of the ket with complex conjugate taken on the components. We suggest you go check basic algebra with bra-ket notation. "
   ]
  },
  {
   "cell_type": "markdown",
   "id": "94e9cf17",
   "metadata": {},
   "source": [
    "In QM when we do a measurement, the state 'collapses' in the state it is measured. The outcome of the measurement can be represented by a projector. For example if I have a state $|\\psi\\rangle=\\alpha|0\\rangle+\\beta|1\\rangle$, I can measure either $|0\\rangle$ or $|1\\rangle$, this is represented by the set of projectors $\\{|0\\rangle\\langle0|,|1\\rangle\\langle1|\\}$, and the probability of each one is $P(i) = \\langle\\psi|P_i|\\psi\\rangle$, where $P_i$ is the corresponding projector."
   ]
  },
  {
   "cell_type": "markdown",
   "id": "2ab84e39",
   "metadata": {},
   "source": [
    "Now, let's get to quantum computing. Basically, we apply so-called quantum-gates to qubits, the same way we apply classical gates to classical bits. There are 4 universal gates called CNOT, H, S, T, which you can go check the definition by yourself. Every other gates can be derive from them. "
   ]
  },
  {
   "cell_type": "markdown",
   "id": "a68bfb71",
   "metadata": {},
   "source": [
    "Thus, what you have to do is to convert the following gates in the 4 universal gates, and show us it works using qiskit QuantumCircuit and simulation."
   ]
  },
  {
   "cell_type": "markdown",
   "id": "b6313b3a",
   "metadata": {},
   "source": [
    "So first, find the decomposition of X, Y, Z, SWAP. What we suggest maybe if you don't know how to start is to look at the matrix definitions of all these gate and try to see."
   ]
  },
  {
   "cell_type": "code",
   "execution_count": 1,
   "id": "6c130204",
   "metadata": {},
   "outputs": [],
   "source": [
    "## your code here : 4 circuits using only universal gates to decompose X,Y,Z,SWAP"
   ]
  },
  {
   "cell_type": "markdown",
   "id": "24a54de9",
   "metadata": {},
   "source": [
    "Now, use these circuits to compare the result you get with the gates given by qiskit. Use qiskit class Statevector, with its method evolve(). Always start with the zero state, this is what is done in qiskit."
   ]
  },
  {
   "cell_type": "code",
   "execution_count": 2,
   "id": "99794100",
   "metadata": {},
   "outputs": [],
   "source": [
    "## your code here : compare your circuit outcomes with the ones of qiskit"
   ]
  },
  {
   "cell_type": "code",
   "execution_count": null,
   "id": "f7d4b266",
   "metadata": {},
   "outputs": [],
   "source": []
  }
 ],
 "metadata": {
  "kernelspec": {
   "display_name": "Python 3 (ipykernel)",
   "language": "python",
   "name": "python3"
  },
  "language_info": {
   "codemirror_mode": {
    "name": "ipython",
    "version": 3
   },
   "file_extension": ".py",
   "mimetype": "text/x-python",
   "name": "python",
   "nbconvert_exporter": "python",
   "pygments_lexer": "ipython3",
   "version": "3.9.12"
  }
 },
 "nbformat": 4,
 "nbformat_minor": 5
}
