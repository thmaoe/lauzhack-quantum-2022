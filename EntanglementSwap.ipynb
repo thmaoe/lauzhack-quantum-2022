{
 "cells": [
  {
   "cell_type": "markdown",
   "id": "3b2d29e1",
   "metadata": {},
   "source": [
    "# QCA Lauzhack participation\n",
    "\n",
    "### _Problem x_ : Entanglement swapping"
   ]
  },
  {
   "cell_type": "markdown",
   "id": "ff336fd9",
   "metadata": {},
   "source": [
    "The aim of this problem is to transfer entanglement to a set of qubits that were independant initially. In order to do so, you will use python library Qiskit. "
   ]
  },
  {
   "cell_type": "code",
   "execution_count": 3,
   "id": "cb9977db",
   "metadata": {},
   "outputs": [],
   "source": [
    "#these are all you need to solve the problem, but you can ofc import other stuff you would need\n",
    "from qiskit import QuantumCircuit\n",
    "from qiskit.quantum_info import Statevector\n",
    "import numpy as np"
   ]
  },
  {
   "cell_type": "markdown",
   "id": "240eaa70",
   "metadata": {},
   "source": [
    "Consider 6 qubits named 1,2,3,4,5,6. These qubits are initially prepared in EPR pair (these are the maximally entangled 2-qubits states) such that the total initial state is given by $|\\Psi\\rangle = |\\Phi^-\\rangle_{1,2} \\otimes |\\Phi^-\\rangle_{3,4} \\otimes  |\\Phi^-\\rangle_{5,6}$, with $|\\Phi^-\\rangle = \\frac{|00\\rangle - |11\\rangle}{\\sqrt{2}}$. So first, using Qiskit, define a circuit which will produce this state."
   ]
  },
  {
   "cell_type": "code",
   "execution_count": 1,
   "id": "38021ead",
   "metadata": {},
   "outputs": [],
   "source": [
    "## your code here : implement a circuit producing \\Psi"
   ]
  },
  {
   "cell_type": "markdown",
   "id": "47afce60",
   "metadata": {},
   "source": [
    "Once you have this state, imagine that qubits 1,3,5 are in some place together (e.g on EPFL campus), and that qubits 2,4,6 are in some other places far away, let's say the moon. Now, a local measurement is done on qubits 1,3,5, which projects these on a GHZ state, given by $|GHZ\\rangle = \\frac{|000\\rangle + |111\\rangle}{\\sqrt{2}}$ (it is maximally entangled). "
   ]
  },
  {
   "cell_type": "markdown",
   "id": "765e9bec",
   "metadata": {},
   "source": [
    "Using Qiskit class Statevector, implement this local measurement on your state $|\\Psi\\rangle$. To do so, use the Statevector class of Qiskit and create the projector corresponding to the local measureament made on 1,3,5."
   ]
  },
  {
   "cell_type": "code",
   "execution_count": 2,
   "id": "3b08c5cd",
   "metadata": {},
   "outputs": [],
   "source": [
    "## your code here : implement the projector"
   ]
  },
  {
   "cell_type": "markdown",
   "id": "ef27d21f",
   "metadata": {},
   "source": [
    "Once it's done you can finally evolve your initial state $|\\Psi\\rangle$ with the projector, and obtain the final state."
   ]
  },
  {
   "cell_type": "code",
   "execution_count": 1,
   "id": "79f2cef4",
   "metadata": {},
   "outputs": [],
   "source": [
    "## your code here : do the total evolution to obtain final state"
   ]
  },
  {
   "cell_type": "markdown",
   "id": "5a46a8a4",
   "metadata": {},
   "source": [
    "What is the state of 2,4,6 now ? Can you see why is it called entanglement swapping ? Hint : you might need Statevector methods Statevector.evolve() and Statevector.to_operator()"
   ]
  },
  {
   "cell_type": "code",
   "execution_count": null,
   "id": "c4067710",
   "metadata": {},
   "outputs": [],
   "source": []
  }
 ],
 "metadata": {
  "kernelspec": {
   "display_name": "Python 3 (ipykernel)",
   "language": "python",
   "name": "python3"
  },
  "language_info": {
   "codemirror_mode": {
    "name": "ipython",
    "version": 3
   },
   "file_extension": ".py",
   "mimetype": "text/x-python",
   "name": "python",
   "nbconvert_exporter": "python",
   "pygments_lexer": "ipython3",
   "version": "3.9.12"
  }
 },
 "nbformat": 4,
 "nbformat_minor": 5
}
